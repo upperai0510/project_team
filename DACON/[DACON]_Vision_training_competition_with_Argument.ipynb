{
  "nbformat": 4,
  "nbformat_minor": 0,
  "metadata": {
    "accelerator": "GPU",
    "colab": {
      "name": "[DACON] Vision_training_competition_with Argument.ipynb",
      "provenance": [],
      "collapsed_sections": [],
      "machine_shape": "hm",
      "mount_file_id": "188xmLm1aTuXtduaZds_xiRRFT-n3OUsw",
      "authorship_tag": "ABX9TyM9is0F93vm5h1dBGa6YxPa",
      "include_colab_link": true
    },
    "kernelspec": {
      "display_name": "Python 3",
      "name": "python3"
    }
  },
  "cells": [
    {
      "cell_type": "markdown",
      "metadata": {
        "id": "view-in-github",
        "colab_type": "text"
      },
      "source": [
        "<a href=\"https://colab.research.google.com/github/upperai0510/project_team/blob/sejin/DACON/%5BDACON%5D_Vision_training_competition_with_Argument.ipynb\" target=\"_parent\"><img src=\"https://colab.research.google.com/assets/colab-badge.svg\" alt=\"Open In Colab\"/></a>"
      ]
    },
    {
      "cell_type": "markdown",
      "metadata": {
        "id": "m_Ify48FmQdd"
      },
      "source": [
        "https://dacon.io/competitions/official/235697/overview/"
      ]
    },
    {
      "cell_type": "code",
      "metadata": {
        "id": "qquzoGj9nM7g"
      },
      "source": [
        "from google.colab import output\r\n",
        "# !cp 파일1 파일2 # 파일1을 파일2로 복사 붙여넣기\r\n",
        "!cp \"/content/drive/MyDrive/스터디/DACON/2차 배포.zip\" \"data_2.zip\"\r\n",
        "# data_2.zip을 현재 디렉터리에 압축해제\r\n",
        "!unzip \"data_2.zip\""
      ],
      "execution_count": null,
      "outputs": []
    },
    {
      "cell_type": "code",
      "metadata": {
        "id": "2BztDX0Cnwu-"
      },
      "source": [
        "from google.colab import output\r\n",
        "# 현재 디렉터리에 dirty_mnist라는 폴더 생성\r\n",
        "!mkdir \"./dirty_mnist\"\r\n",
        "#dirty_mnist.zip라는 zip파일을 dirty_mnist라는 폴더에 압축 풀기\r\n",
        "!unzip \"dirty_mnist_2nd.zip\" -d \"./dirty_mnist/\"\r\n",
        "# 현재 디렉터리에 test_dirty_mnist라는 폴더 생성\r\n",
        "!mkdir \"./test_dirty_mnist\"\r\n",
        "#test_dirty_mnist.zip라는 zip파일을 test_dirty_mnist라는 폴더에 압축 풀기\r\n",
        "!unzip \"test_dirty_mnist_2nd.zip\" -d \"./test_dirty_mnist/\"\r\n",
        "# 출력 결과 지우기\r\n",
        "output.clear()"
      ],
      "execution_count": null,
      "outputs": []
    },
    {
      "cell_type": "code",
      "metadata": {
        "id": "DN5ObnZVSgj1"
      },
      "source": [
        "! nvidia-smi"
      ],
      "execution_count": null,
      "outputs": []
    },
    {
      "cell_type": "code",
      "metadata": {
        "colab": {
          "background_save": true
        },
        "id": "FayfPG_XoKkY",
        "outputId": "9392e3f0-776e-410a-ed27-d6d3f3ccf5f5"
      },
      "source": [
        "! pip install torchinfo\r\n",
        "! pip install efficientnet_pytorch"
      ],
      "execution_count": null,
      "outputs": [
        {
          "output_type": "stream",
          "text": [
            "Collecting torchinfo\n",
            "  Downloading https://files.pythonhosted.org/packages/4f/b1/4b310bd715885636e7174b4b52817202fff0ae3609ca2bfb17f28e33e0a1/torchinfo-0.0.8-py3-none-any.whl\n",
            "\u001b[31mERROR: Operation cancelled by user\u001b[0m\n",
            "Collecting efficientnet_pytorch\n",
            "  Downloading https://files.pythonhosted.org/packages/4e/83/f9c5f44060f996279e474185ebcbd8dbd91179593bffb9abe3afa55d085b/efficientnet_pytorch-0.7.0.tar.gz\n",
            "Requirement already satisfied: torch in /usr/local/lib/python3.7/dist-packages (from efficientnet_pytorch) (1.7.1+cu101)\n",
            "Requirement already satisfied: typing-extensions in /usr/local/lib/python3.7/dist-packages (from torch->efficientnet_pytorch) (3.7.4.3)\n",
            "Requirement already satisfied: numpy in /usr/local/lib/python3.7/dist-packages (from torch->efficientnet_pytorch) (1.19.5)\n",
            "Building wheels for collected packages: efficientnet-pytorch\n",
            "  Building wheel for efficientnet-pytorch (setup.py) ... \u001b[?25l\u001b[?25hdone\n",
            "  Created wheel for efficientnet-pytorch: filename=efficientnet_pytorch-0.7.0-cp37-none-any.whl size=16031 sha256=1f8a2d2a682317c79dd285be92c992f0c72faf37db822621005cdcc8f252132b\n",
            "  Stored in directory: /root/.cache/pip/wheels/e9/c6/e1/7a808b26406239712cfce4b5ceeb67d9513ae32aa4b31445c6\n",
            "Successfully built efficientnet-pytorch\n",
            "Installing collected packages: efficientnet-pytorch\n",
            "Successfully installed efficientnet-pytorch-0.7.0\n"
          ],
          "name": "stdout"
        }
      ]
    },
    {
      "cell_type": "code",
      "metadata": {
        "colab": {
          "background_save": true
        },
        "id": "PJ0SpfPVn13s",
        "outputId": "2772a579-bf3e-4961-a1df-ff3bf0b552a5"
      },
      "source": [
        "import os\r\n",
        "from typing import Tuple, Sequence, Callable\r\n",
        "import csv\r\n",
        "import cv2\r\n",
        "import numpy as np\r\n",
        "import pandas as pd\r\n",
        "from PIL import Image\r\n",
        "from tqdm import tqdm\r\n",
        "import torch\r\n",
        "import torch.optim as optim\r\n",
        "from torch import nn, Tensor\r\n",
        "from torch.utils.data import Dataset, DataLoader, random_split\r\n",
        "from torchinfo import summary\r\n",
        "\r\n",
        "from torchvision import transforms\r\n",
        "from torchvision.models import resnet152\r\n",
        "from torchvision.models import resnet101\r\n",
        "from torchvision.models import resnet50\r\n",
        "from efficientnet_pytorch import EfficientNet\r\n",
        "\r\n",
        "model = EfficientNet.from_pretrained('efficientnet-b0')\r\n"
      ],
      "execution_count": null,
      "outputs": [
        {
          "output_type": "error",
          "ename": "ModuleNotFoundError",
          "evalue": "ignored",
          "traceback": [
            "\u001b[0;31m---------------------------------------------------------------------------\u001b[0m",
            "\u001b[0;31mModuleNotFoundError\u001b[0m                       Traceback (most recent call last)",
            "\u001b[0;32m<ipython-input-6-6c7159d7ca11>\u001b[0m in \u001b[0;36m<module>\u001b[0;34m()\u001b[0m\n\u001b[1;32m     11\u001b[0m \u001b[0;32mfrom\u001b[0m \u001b[0mtorch\u001b[0m \u001b[0;32mimport\u001b[0m \u001b[0mnn\u001b[0m\u001b[0;34m,\u001b[0m \u001b[0mTensor\u001b[0m\u001b[0;34m\u001b[0m\u001b[0;34m\u001b[0m\u001b[0m\n\u001b[1;32m     12\u001b[0m \u001b[0;32mfrom\u001b[0m \u001b[0mtorch\u001b[0m\u001b[0;34m.\u001b[0m\u001b[0mutils\u001b[0m\u001b[0;34m.\u001b[0m\u001b[0mdata\u001b[0m \u001b[0;32mimport\u001b[0m \u001b[0mDataset\u001b[0m\u001b[0;34m,\u001b[0m \u001b[0mDataLoader\u001b[0m\u001b[0;34m,\u001b[0m \u001b[0mrandom_split\u001b[0m\u001b[0;34m\u001b[0m\u001b[0;34m\u001b[0m\u001b[0m\n\u001b[0;32m---> 13\u001b[0;31m \u001b[0;32mfrom\u001b[0m \u001b[0mtorchinfo\u001b[0m \u001b[0;32mimport\u001b[0m \u001b[0msummary\u001b[0m\u001b[0;34m\u001b[0m\u001b[0;34m\u001b[0m\u001b[0m\n\u001b[0m\u001b[1;32m     14\u001b[0m \u001b[0;34m\u001b[0m\u001b[0m\n\u001b[1;32m     15\u001b[0m \u001b[0;32mfrom\u001b[0m \u001b[0mtorchvision\u001b[0m \u001b[0;32mimport\u001b[0m \u001b[0mtransforms\u001b[0m\u001b[0;34m\u001b[0m\u001b[0;34m\u001b[0m\u001b[0m\n",
            "\u001b[0;31mModuleNotFoundError\u001b[0m: No module named 'torchinfo'",
            "",
            "\u001b[0;31m---------------------------------------------------------------------------\u001b[0;32m\nNOTE: If your import is failing due to a missing package, you can\nmanually install dependencies using either !pip or !apt.\n\nTo view examples of installing some common dependencies, click the\n\"Open Examples\" button below.\n\u001b[0;31m---------------------------------------------------------------------------\u001b[0m\n"
          ]
        }
      ]
    },
    {
      "cell_type": "code",
      "metadata": {
        "colab": {
          "background_save": true
        },
        "id": "E1VAolH-n6Gc"
      },
      "source": [
        "class MnistDataset(Dataset):\r\n",
        "    def __init__(\r\n",
        "        self,\r\n",
        "        dir: os.PathLike,\r\n",
        "        image_ids: os.PathLike,\r\n",
        "        transforms: Sequence[Callable]\r\n",
        "    ) -> None:\r\n",
        "        self.dir = dir\r\n",
        "        self.transforms = transforms\r\n",
        "\r\n",
        "        self.labels = {}\r\n",
        "        with open(image_ids, 'r') as f:\r\n",
        "            reader = csv.reader(f)\r\n",
        "            next(reader)\r\n",
        "            for row in reader:\r\n",
        "                self.labels[int(row[0])] = list(map(int, row[1:]))\r\n",
        "\r\n",
        "        self.image_ids = list(self.labels.keys())\r\n",
        "\r\n",
        "    def __len__(self) -> int:\r\n",
        "        return len(self.image_ids)\r\n",
        "\r\n",
        "    def __getitem__(self, index: int) -> Tuple[Tensor]:\r\n",
        "        image_id = self.image_ids[index]\r\n",
        "        image = Image.open(\r\n",
        "            os.path.join(\r\n",
        "                self.dir, f'{str(image_id).zfill(5)}.png')).convert('RGB')\r\n",
        "        target = np.array(self.labels.get(image_id)).astype(np.float32)\r\n",
        "\r\n",
        "        if self.transforms is not None:\r\n",
        "            image = self.transforms(image)\r\n",
        "\r\n",
        "        return image, target"
      ],
      "execution_count": null,
      "outputs": []
    },
    {
      "cell_type": "code",
      "metadata": {
        "colab": {
          "background_save": true
        },
        "id": "otc8moGWn8kc"
      },
      "source": [
        "# 이미지 변형하기 Data Argument\r\n",
        "\r\n",
        "transforms_train = transforms.Compose([\r\n",
        "    transforms.RandomHorizontalFlip(p=0.5), # 이미지를 랜덤으로 수평으로 뒤집는다\r\n",
        "    transforms.RandomVerticalFlip(p=0.5),   # 이미지를 랜덤으로 수직으로 뒤집는다\r\n",
        "    transforms.ToTensor(),                  # 이미지 데이터를 tensor로 바꿔준다\r\n",
        "    transforms.Normalize(                   # 이미지를 정규화한다.\r\n",
        "        [0.485, 0.456, 0.406],\r\n",
        "        [0.229, 0.224, 0.225]\r\n",
        "    )\r\n",
        "])\r\n",
        "\r\n",
        "transforms_test = transforms.Compose([\r\n",
        "    transforms.ToTensor(),\r\n",
        "    transforms.Normalize(\r\n",
        "        [0.485, 0.456, 0.406],\r\n",
        "        [0.229, 0.224, 0.225]\r\n",
        "    )\r\n",
        "])"
      ],
      "execution_count": null,
      "outputs": []
    },
    {
      "cell_type": "code",
      "metadata": {
        "colab": {
          "background_save": true
        },
        "id": "uIf8VAbfnq4L"
      },
      "source": [
        "trainset = MnistDataset('/content/dirty_mnist', '/content/dirty_mnist_2nd_answer.csv', transforms_train)\r\n",
        "testset = MnistDataset('/content/test_dirty_mnist', '/content/sample_submission.csv', transforms_test)\r\n",
        "\r\n",
        "m=len(trainset)\r\n",
        "train_data, val_data = random_split(trainset, [int(m-m*0.2), int(m*0.2)])\r\n",
        "\r\n",
        "train_loader = DataLoader(train_data, batch_size=64, num_workers=0, drop_last=True)\r\n",
        "valid_loader = DataLoader(val_data, batch_size=16, num_workers=0, drop_last=True)\r\n",
        "test_loader = DataLoader(testset, batch_size=16, num_workers=0, drop_last=True)"
      ],
      "execution_count": null,
      "outputs": []
    },
    {
      "cell_type": "code",
      "metadata": {
        "colab": {
          "background_save": true
        },
        "id": "aEn9r992nuDm"
      },
      "source": [
        "class MnistModel(nn.Module):\r\n",
        "    def __init__(self) -> None:\r\n",
        "        super().__init__()\r\n",
        "        self.resnet = resnet101(pretrained=True)\r\n",
        "        self.classifier = nn.Linear(1000, 26)\r\n",
        "\r\n",
        "    def forward(self, x):\r\n",
        "        x = self.resnet(x)\r\n",
        "        x = self.classifier(x)\r\n",
        "\r\n",
        "        return x\r\n",
        "\r\n",
        "device = torch.device('cuda' if torch.cuda.is_available() else 'cpu')\r\n",
        "model = MnistModel().to(device)\r\n",
        "print(summary(model, input_size=(1, 3, 256, 256), verbose=0))"
      ],
      "execution_count": null,
      "outputs": []
    },
    {
      "cell_type": "code",
      "metadata": {
        "colab": {
          "background_save": true
        },
        "id": "M1IaSRPToAhU"
      },
      "source": [
        "optimizer = optim.Adam(model.parameters(), lr=1e-3)\r\n",
        "criterion = nn.MultiLabelSoftMarginLoss()\r\n",
        "\r\n",
        "num_epochs = 30\r\n",
        "valid_acc_max = 0\r\n",
        "for epoch in range(num_epochs):\r\n",
        "  model.train()\r\n",
        "  for i, (images, targets) in enumerate(train_loader):\r\n",
        "      optimizer.zero_grad()\r\n",
        "\r\n",
        "      images = images.to(device)\r\n",
        "      targets = targets.to(device)\r\n",
        "\r\n",
        "      outputs = model(images)\r\n",
        "      loss = criterion(outputs, targets)\r\n",
        "\r\n",
        "      loss.backward()\r\n",
        "      optimizer.step()\r\n",
        "\r\n",
        "  outputs = outputs > 0.5\r\n",
        "  acc = (outputs == targets).float().mean()\r\n",
        "  print(f'{epoch} Train : loss_{loss.item():.5f}, acc_{acc.item():.5f}', end =\" / \")\r\n",
        "\r\n",
        "  model.eval()\r\n",
        "  for idx, (images, targets) in enumerate(valid_loader):\r\n",
        "\r\n",
        "      images = images.to(device)\r\n",
        "      targets = targets.to(device)\r\n",
        "\r\n",
        "      with torch.no_grad():\r\n",
        "        outputs = model(images)\r\n",
        "        loss = criterion(outputs, targets)\r\n",
        "\r\n",
        "  outputs = outputs > 0.5\r\n",
        "  val_acc = (outputs == targets).float().mean()\r\n",
        "\r\n",
        "  if valid_acc_max < val_acc:\r\n",
        "    best_model = model\r\n",
        "    best_model_epoch = epoch\r\n",
        "    valid_acc_max = val_acc\r\n",
        "\r\n",
        "  print(f'Valid : loss_{loss.item():.5f}, acc_{val_acc.item():.5f}')\r\n",
        "\r\n",
        "path = \"/content/drive/MyDrive/스터디/DACON/\"\r\n",
        "torch.save(best_model, f'{path}{best_model_epoch}_acc_{valid_acc_max.item():.5f}.pth')\r\n",
        "torch.save(best_model.state_dict(), f'{path}_weight_{best_model_epoch}_acc_{valid_acc_max.item():.5f}.pth')"
      ],
      "execution_count": null,
      "outputs": []
    },
    {
      "cell_type": "markdown",
      "metadata": {
        "id": "hTrPlBKjBHQF"
      },
      "source": [
        "* DACON submit : \r\n",
        "\r\n",
        "1. resnet 101 - 30epoch - 0.8074 (overfitiing)\r\n",
        "\r\n",
        "0 Train : loss_0.68684, acc_0.53666 / Valid : loss_0.68724, acc_0.55048\r\n",
        "1 Train : loss_0.67424, acc_0.55829 / Valid : loss_0.72526, acc_0.52163\r\n",
        "2 Train : loss_0.65668, acc_0.58293 / Valid : loss_0.65585, acc_0.56971\r\n",
        "3 Train : loss_0.63766, acc_0.60156 / Valid : loss_0.65104, acc_0.59856\r\n",
        "4 Train : loss_0.61065, acc_0.63281 / Valid : loss_0.65922, acc_0.59615\r\n",
        "5 Train : loss_0.58434, acc_0.65805 / Valid : loss_0.65278, acc_0.60337\r\n",
        "6 Train : loss_0.56101, acc_0.68990 / Valid : loss_0.89083, acc_0.63221\r\n",
        "7 Train : loss_0.51387, acc_0.72055 / Valid : loss_0.56604, acc_0.68510\r\n",
        "8 Train : loss_0.49989, acc_0.73077 / Valid : loss_0.54583, acc_0.73558\r\n",
        "9 Train : loss_0.47011, acc_0.75601 / Valid : loss_0.50237, acc_0.73558\r\n",
        "10 Train : loss_0.43341, acc_0.78125 / Valid : loss_0.49979, acc_0.75481\r\n",
        "11 Train : loss_0.40558, acc_0.80349 / Valid : loss_0.45310, acc_0.80048\r\n",
        "12 Train : loss_0.39432, acc_0.81370 / Valid : loss_0.43310, acc_0.80288\r\n",
        "13 Train : loss_0.37135, acc_0.82332 / Valid : loss_0.40764, acc_0.82212\r\n",
        "14 Train : loss_0.33798, acc_0.84976 / Valid : loss_0.39079, acc_0.84375\r\n",
        "15 Train : loss_0.31873, acc_0.85577 / Valid : loss_0.39854, acc_0.83413\r\n",
        "16 Train : loss_0.30895, acc_0.85337 / Valid : loss_0.40077, acc_0.82452\r\n",
        "17 Train : loss_0.29550, acc_0.87139 / Valid : loss_0.39045, acc_0.82452\r\n",
        "18 Train : loss_0.27624, acc_0.88582 / Valid : loss_0.38557, acc_0.83894\r\n",
        "19 Train : loss_0.25766, acc_0.88582 / Valid : loss_0.36999, acc_0.84856\r\n",
        "20 Train : loss_0.25443, acc_0.88822 / Valid : loss_0.39586, acc_0.85096\r\n",
        "21 Train : loss_0.24340, acc_0.89663 / Valid : loss_0.36735, acc_0.86538\r\n",
        "22 Train : loss_0.21754, acc_0.90565 / Valid : loss_0.37521, acc_0.84856\r\n",
        "23 Train : loss_0.19395, acc_0.91707 / Valid : loss_0.41160, acc_0.83654\r\n",
        "24 Train : loss_0.19607, acc_0.92007 / Valid : loss_0.38433, acc_0.85817\r\n",
        "25 Train : loss_0.17828, acc_0.92668 / Valid : loss_0.37020, acc_0.88462\r\n",
        "26 Train : loss_0.16715, acc_0.93630 / Valid : loss_0.44425, acc_0.84856\r\n",
        "27 Train : loss_0.14795, acc_0.93990 / Valid : loss_0.43556, acc_0.85337\r\n",
        "28 Train : loss_0.14428, acc_0.93990 / Valid : loss_0.44613, acc_0.86779\r\n",
        "29 Train : loss_0.13022, acc_0.94952 / Valid : loss_0.48286, acc_0.85817"
      ]
    },
    {
      "cell_type": "markdown",
      "metadata": {
        "id": "b3m_L5bWOFbx"
      },
      "source": [
        "![image.png](data:image/png;base64,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)"
      ]
    },
    {
      "cell_type": "code",
      "metadata": {
        "colab": {
          "background_save": true
        },
        "id": "f5vN7lnSYIcN"
      },
      "source": [
        "model = torch.load('/content/drive/MyDrive/스터디/DACON/resnet101_0.93990.pth')"
      ],
      "execution_count": null,
      "outputs": []
    },
    {
      "cell_type": "code",
      "metadata": {
        "colab": {
          "background_save": true
        },
        "id": "xAXEHgeDf2oJ"
      },
      "source": [
        "submit = pd.read_csv('/content/sample_submission.csv')\r\n",
        "\r\n",
        "model.eval()\r\n",
        "batch_size = test_loader.batch_size\r\n",
        "batch_index = 0\r\n",
        "for i, (images, targets) in enumerate(test_loader):\r\n",
        "    images = images.to(device)\r\n",
        "    targets = targets.to(device)\r\n",
        "    outputs = model(images)\r\n",
        "    outputs = outputs > 0.5\r\n",
        "    batch_index = i * batch_size\r\n",
        "    submit.iloc[batch_index:batch_index+batch_size, 1:] = \\\r\n",
        "        outputs.long().squeeze(0).detach().cpu().numpy()\r\n",
        "    \r\n",
        "submit.to_csv('/content/drive/MyDrive/스터디/DACON/submit_resnet101_3nd.csv', index=False)"
      ],
      "execution_count": null,
      "outputs": []
    },
    {
      "cell_type": "code",
      "metadata": {
        "colab": {
          "background_save": true
        },
        "id": "oKPTNna0Y0ff"
      },
      "source": [
        "torch.save(model.state_dict(), f'/content/drive/MyDrive/스터디/DACON/resnet101_final_state_dict.pth')"
      ],
      "execution_count": null,
      "outputs": []
    },
    {
      "cell_type": "code",
      "metadata": {
        "colab": {
          "background_save": true
        },
        "id": "Mn69gC6yLtH_"
      },
      "source": [
        "# import matplotlib.pyplot as plt\r\n",
        "# import matplotlib\r\n",
        "\r\n",
        "# history = {'train_acc': [0.53666,\t0.55829,\t0.58293,\t0.60156,\t0.63281,\t0.65805,\t0.6899,\t0.72055,\t0.73077,\t0.75601,\t0.78125,\t0.80349,\t0.8137,\t0.82332,\t0.84976,\t0.85577,\t0.85337,\t0.87139,\t0.88582,\t0.88582,\t0.88822,\t0.89663,\t0.90565,\t0.91707,\t0.92007,\t0.92668,\t0.9363,\t0.9399,\t0.9399,\t0.94952],\r\n",
        "#             'valid_acc': [0.55048,\t0.52163,\t0.56971,\t0.59856,\t0.59615,\t0.60337,\t0.63221,\t0.6851,\t0.73558,\t0.73558,\t0.75481,\t0.80048,\t0.80288,\t0.82212,\t0.84375,\t0.83413,\t0.82452,\t0.82452,\t0.83894,\t0.84856,\t0.85096,\t0.86538,\t0.84856,\t0.83654,\t0.85817,\t0.88462,\t0.84856,\t0.85337,\t0.86779,\t0.85817]}\r\n",
        "\r\n",
        "\r\n",
        "# # 도화지 생성\r\n",
        "# fig = plt.figure()\r\n",
        "# # 정확도 그래프 그리기\r\n",
        "# plt.plot(range(30), history['train_acc'], label='train_acc', color='red')\r\n",
        "# plt.plot(range(30), history['valid_acc'], label='valid_acc', color='black')\r\n",
        "# # 축 이름\r\n",
        "# plt.legend()\r\n",
        "# plt.xlabel('epochs')\r\n",
        "# plt.ylabel('acc')\r\n",
        "# plt.grid(linestyle='--', color='lavender')\r\n",
        "# # 그래프 표시\r\n",
        "# plt.show()\r\n",
        "# # 그래프 저장\r\n",
        "# plt.savefig('mnist_tensorflow_acc.png')"
      ],
      "execution_count": null,
      "outputs": []
    }
  ]
}