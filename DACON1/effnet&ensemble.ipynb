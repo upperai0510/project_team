{
 "cells": [
  {
   "cell_type": "code",
   "execution_count": 1,
   "metadata": {},
   "outputs": [
    {
     "name": "stdout",
     "output_type": "stream",
     "text": [
      "Collecting efficientnet_pytorch\n",
      "  Downloading https://files.pythonhosted.org/packages/4e/83/f9c5f44060f996279e474185ebcbd8dbd91179593bffb9abe3afa55d085b/efficientnet_pytorch-0.7.0.tar.gz\n",
      "Requirement already satisfied: torch in /home/itm1/anaconda3/lib/python3.7/site-packages (from efficientnet_pytorch) (1.6.0)\n",
      "Requirement already satisfied: future in /home/itm1/anaconda3/lib/python3.7/site-packages (from torch->efficientnet_pytorch) (0.17.1)\n",
      "Requirement already satisfied: numpy in /home/itm1/anaconda3/lib/python3.7/site-packages (from torch->efficientnet_pytorch) (1.18.5)\n",
      "Building wheels for collected packages: efficientnet-pytorch\n",
      "  Building wheel for efficientnet-pytorch (setup.py) ... \u001b[?25ldone\n",
      "\u001b[?25h  Stored in directory: /home/itm1/.cache/pip/wheels/e9/c6/e1/7a808b26406239712cfce4b5ceeb67d9513ae32aa4b31445c6\n",
      "Successfully built efficientnet-pytorch\n",
      "Installing collected packages: efficientnet-pytorch\n",
      "Successfully installed efficientnet-pytorch-0.7.0\n",
      "Collecting git+https://github.com/cmpark0126/pytorch-polynomial-lr-decay.git\n",
      "  Cloning https://github.com/cmpark0126/pytorch-polynomial-lr-decay.git to /tmp/pip-req-build-6my87q5p\n",
      "  Running command git clone -q https://github.com/cmpark0126/pytorch-polynomial-lr-decay.git /tmp/pip-req-build-6my87q5p\n",
      "Requirement already satisfied: torch in /home/itm1/anaconda3/lib/python3.7/site-packages (from torch-poly-lr-decay==0.0.1) (1.6.0)\n",
      "Requirement already satisfied: numpy in /home/itm1/anaconda3/lib/python3.7/site-packages (from torch->torch-poly-lr-decay==0.0.1) (1.18.5)\n",
      "Requirement already satisfied: future in /home/itm1/anaconda3/lib/python3.7/site-packages (from torch->torch-poly-lr-decay==0.0.1) (0.17.1)\n",
      "Building wheels for collected packages: torch-poly-lr-decay\n",
      "  Building wheel for torch-poly-lr-decay (setup.py) ... \u001b[?25ldone\n",
      "\u001b[?25h  Stored in directory: /tmp/pip-ephem-wheel-cache-39pwp6bv/wheels/5a/b7/09/d748b20c9bdfc768a33c37a28b2ad7dd9ec3e79e5152cb1618\n",
      "Successfully built torch-poly-lr-decay\n",
      "Installing collected packages: torch-poly-lr-decay\n",
      "Successfully installed torch-poly-lr-decay-0.0.1\n"
     ]
    }
   ],
   "source": [
    "!pip install efficientnet_pytorch\n",
    "!pip install git+https://github.com/cmpark0126/pytorch-polynomial-lr-decay.git"
   ]
  },
  {
   "cell_type": "code",
   "execution_count": 1,
   "metadata": {},
   "outputs": [],
   "source": [
    "import torch\n",
    "import glob\n",
    "import os\n",
    "from torch.utils.data import Dataset, DataLoader\n",
    "import pandas as pd\n",
    "import cv2\n",
    "from tqdm import tqdm\n",
    "import numpy as np\n",
    "from torchvision import transforms\n",
    "import torchvision.models as models\n",
    "import torch.nn as nn\n",
    "from torch.nn import functional as F\n",
    "from sklearn.model_selection import KFold\n",
    "import time\n",
    "from efficientnet_pytorch import EfficientNet\n",
    "import matplotlib.pyplot as plt\n",
    "from torch_poly_lr_decay import PolynomialLRDecay\n",
    "import random\n",
    "from PIL import Image\n",
    "\n",
    "\n",
    "torch.set_num_threads(1)\n",
    "device = torch.device(\"cuda:0\" if torch.cuda.is_available() else \"cpu\")"
   ]
  },
  {
   "cell_type": "code",
   "execution_count": 2,
   "metadata": {},
   "outputs": [
    {
     "name": "stderr",
     "output_type": "stream",
     "text": [
      "100%|██████████| 50000/50000 [00:34<00:00, 1463.91it/s]\n"
     ]
    }
   ],
   "source": [
    "#dataload\n",
    "labels_df = pd.read_csv('dataset/dirty_mnist_2nd_answer.csv')[:]\n",
    "imgs_dir = np.array(sorted(glob.glob('dataset/dirty_mnist_2nd/*')))[:]\n",
    "labels = np.array(labels_df.values[:,1:])\n",
    "\n",
    "test_imgs_dir = np.array(sorted(glob.glob('dataset/test_dirty_mnist_2nd/*')))\n",
    "imgs=[]\n",
    "for path in tqdm(imgs_dir[:]):\n",
    "    img=cv2.imread(path, cv2.IMREAD_COLOR)\n",
    "    imgs.append(img)\n",
    "imgs=np.array(imgs)"
   ]
  },
  {
   "cell_type": "code",
   "execution_count": 34,
   "metadata": {},
   "outputs": [],
   "source": [
    "image = Image.open('dataset/dirty_mnist_2nd/00002.png')"
   ]
  },
  {
   "cell_type": "code",
   "execution_count": 3,
   "metadata": {},
   "outputs": [],
   "source": [
    "# 저장소에서 load\n",
    "class MnistDataset_v1(Dataset):\n",
    "    def __init__(self, imgs_dir=None, labels=None, transform=None, train=True):\n",
    "        self.imgs_dir = imgs_dir\n",
    "        self.labels = labels\n",
    "        self.transform = transform\n",
    "        self.train = train\n",
    "        pass\n",
    "    \n",
    "    def __len__(self):\n",
    "        # 데이터 총 샘플 수\n",
    "        return len(self.imgs_dir)\n",
    "    \n",
    "    def __getitem__(self, idx):\n",
    "        # 1개 샘플 get\n",
    "        #img = cv2.imread(self.imgs_dir[idx], cv2.IMREAD_COLOR)\n",
    "        img = Image.open(self.imgs_dir[idx]).convert('RGB')\n",
    "        img = self.transform(img)\n",
    "        if self.train==True:\n",
    "            label = self.labels[idx]\n",
    "            return img, label\n",
    "        else:\n",
    "            return img\n",
    "        \n",
    "        pass\n",
    "    \n",
    "\n",
    "\n",
    "# 메모리에서 load\n",
    "class MnistDataset_v2(Dataset):\n",
    "    def __init__(self, imgs=None, labels=None, transform=None, train=True):\n",
    "        self.imgs = imgs\n",
    "        self.labels = labels\n",
    "        self.transform = transform\n",
    "        self.train=train\n",
    "        pass\n",
    "    \n",
    "    def __len__(self):\n",
    "        # 데이터 총 샘플 수\n",
    "        return len(self.imgs)\n",
    "    \n",
    "    def __getitem__(self, idx):\n",
    "        # 1개 샘플 get1\n",
    "        img = self.imgs[idx]\n",
    "        img = self.transform(img)\n",
    "        \n",
    "        if self.train==True:\n",
    "            label = self.labels[idx]\n",
    "            return img, label\n",
    "        else:\n",
    "            return img"
   ]
  },
  {
   "cell_type": "code",
   "execution_count": 4,
   "metadata": {},
   "outputs": [],
   "source": [
    "# https://dacon.io/competitions/official/235697/codeshare/2363?page=1&dtype=recent&ptype=pub\n",
    "def seed_everything(seed: int = 42):\n",
    "    random.seed(seed)\n",
    "    np.random.seed(seed)\n",
    "    os.environ[\"PYTHONHASHSEED\"] = str(seed)\n",
    "    torch.manual_seed(seed)\n",
    "    torch.cuda.manual_seed(seed)  # type: ignore\n",
    "    torch.backends.cudnn.deterministic = True  # type: ignore\n",
    "    torch.backends.cudnn.benchmark = True  "
   ]
  },
  {
   "cell_type": "code",
   "execution_count": 5,
   "metadata": {},
   "outputs": [],
   "source": [
    "# EfficientNet -b0(pretrained)\n",
    "# MultiLabel output\n",
    "\n",
    "class EfficientNet_MultiLabel(nn.Module):\n",
    "    def __init__(self, in_channels):\n",
    "        super(EfficientNet_MultiLabel, self).__init__()\n",
    "        self.network = EfficientNet.from_pretrained('efficientnet-b3', in_channels=in_channels)\n",
    "        self.output_layer = nn.Linear(1000, 26)\n",
    "\n",
    "    def forward(self, x):\n",
    "        x = F.relu(self.network(x))\n",
    "        x = torch.sigmoid(self.output_layer(x))\n",
    "        return x"
   ]
  },
  {
   "cell_type": "code",
   "execution_count": 21,
   "metadata": {},
   "outputs": [],
   "source": [
    "# 해당 코드에서는 1fold만 실행\n",
    "\n",
    "kf = KFold(n_splits=5, shuffle=True, random_state=42)\n",
    "folds=[]\n",
    "for train_idx, valid_idx in kf.split(imgs):\n",
    "    folds.append((train_idx, valid_idx))"
   ]
  },
  {
   "cell_type": "code",
   "execution_count": 55,
   "metadata": {},
   "outputs": [
    {
     "data": {
      "image/png": "[encoded data removed]",
      "text/plain": [
       "<PIL.PngImagePlugin.PngImageFile image mode=L size=256x256 at 0x7F8F613EBE80>"
      ]
     },
     "execution_count": 55,
     "metadata": {},
     "output_type": "execute_result"
    }
   ],
   "source": [
    "image"
   ]
  },
  {
   "cell_type": "code",
   "execution_count": null,
   "metadata": {},
   "outputs": [
    {
     "name": "stdout",
     "output_type": "stream",
     "text": [
      "Loaded pretrained weights for efficientnet-b3\n"
     ]
    },
    {
     "name": "stderr",
     "output_type": "stream",
     "text": [
      "/home/itm1/anaconda3/envs/py140/lib/python3.6/site-packages/ipykernel_launcher.py:56: UserWarning: To copy construct from a tensor, it is recommended to use sourceTensor.clone().detach() or sourceTensor.clone().detach().requires_grad_(True), rather than torch.tensor(sourceTensor).\n",
      "/home/itm1/anaconda3/envs/py140/lib/python3.6/site-packages/ipykernel_launcher.py:57: UserWarning: To copy construct from a tensor, it is recommended to use sourceTensor.clone().detach() or sourceTensor.clone().detach().requires_grad_(True), rather than torch.tensor(sourceTensor).\n"
     ]
    },
    {
     "name": "stdout",
     "output_type": "stream",
     "text": [
      "=========test=========\n",
      "fold : 1\tepoch : 02\ttrain_accuracy / loss : 0.66630 / 0.60073\tvalid_accuracy / loss : 0.68305 / 0.59131\ttime : 388\n",
      "=========test=========\n",
      "fold : 1\tepoch : 03\ttrain_accuracy / loss : 0.72759 / 0.53477\tvalid_accuracy / loss : 0.74188 / 0.51996\ttime : 388\n",
      "=========test=========\n",
      "fold : 1\tepoch : 04\ttrain_accuracy / loss : 0.77323 / 0.47596\tvalid_accuracy / loss : 0.76044 / 0.49613\ttime : 388\n",
      "=========test=========\n",
      "fold : 1\tepoch : 05\ttrain_accuracy / loss : 0.80369 / 0.42917\tvalid_accuracy / loss : 0.80410 / 0.42916\ttime : 388\n",
      "=========test=========\n",
      "fold : 1\tepoch : 06\ttrain_accuracy / loss : 0.82563 / 0.39287\tvalid_accuracy / loss : 0.82667 / 0.38810\ttime : 388\n",
      "=========test=========\n",
      "fold : 1\tepoch : 07\ttrain_accuracy / loss : 0.84234 / 0.36216\tvalid_accuracy / loss : 0.83640 / 0.37321\ttime : 389\n",
      "=========test=========\n",
      "fold : 1\tepoch : 08\ttrain_accuracy / loss : 0.85680 / 0.33469\tvalid_accuracy / loss : 0.84437 / 0.35923\ttime : 388\n",
      "=========test=========\n",
      "fold : 1\tepoch : 09\ttrain_accuracy / loss : 0.86915 / 0.31090\tvalid_accuracy / loss : 0.85718 / 0.33769\ttime : 388\n",
      "=========test=========\n",
      "fold : 1\tepoch : 10\ttrain_accuracy / loss : 0.87984 / 0.28956\tvalid_accuracy / loss : 0.86390 / 0.32761\ttime : 388\n",
      "=========test=========\n",
      "fold : 1\tepoch : 11\ttrain_accuracy / loss : 0.88917 / 0.26958\tvalid_accuracy / loss : 0.86900 / 0.31437\ttime : 388\n",
      "=========test=========\n",
      "fold : 1\tepoch : 12\ttrain_accuracy / loss : 0.89742 / 0.25148\tvalid_accuracy / loss : 0.87652 / 0.30277\ttime : 388\n",
      "=========test=========\n",
      "fold : 1\tepoch : 13\ttrain_accuracy / loss : 0.90595 / 0.23400\tvalid_accuracy / loss : 0.86132 / 0.33236\ttime : 388\n",
      "=========test=========\n",
      "fold : 1\tepoch : 14\ttrain_accuracy / loss : 0.91223 / 0.21906\tvalid_accuracy / loss : 0.87960 / 0.30692\ttime : 388\n",
      "=========test=========\n",
      "fold : 1\tepoch : 15\ttrain_accuracy / loss : 0.91940 / 0.20353\tvalid_accuracy / loss : 0.88359 / 0.30354\ttime : 388\n",
      "=========test=========\n",
      "fold : 1\tepoch : 16\ttrain_accuracy / loss : 0.92600 / 0.18830\tvalid_accuracy / loss : 0.88429 / 0.30114\ttime : 388\n",
      "=========test=========\n",
      "fold : 1\tepoch : 17\ttrain_accuracy / loss : 0.93205 / 0.17406\tvalid_accuracy / loss : 0.88458 / 0.30351\ttime : 388\n",
      "=========test=========\n",
      "fold : 1\tepoch : 18\ttrain_accuracy / loss : 0.93793 / 0.15990\tvalid_accuracy / loss : 0.88598 / 0.30585\ttime : 388\n",
      "=========test=========\n",
      "fold : 1\tepoch : 19\ttrain_accuracy / loss : 0.94338 / 0.14653\tvalid_accuracy / loss : 0.88713 / 0.30749\ttime : 388\n",
      "=========test=========\n",
      "fold : 1\tepoch : 20\ttrain_accuracy / loss : 0.94870 / 0.13413\tvalid_accuracy / loss : 0.89120 / 0.30575\ttime : 388\n",
      "=========test=========\n",
      "fold : 1\tepoch : 21\ttrain_accuracy / loss : 0.95356 / 0.12228\tvalid_accuracy / loss : 0.89160 / 0.30972\ttime : 388\n",
      "=========test=========\n",
      "fold : 1\tepoch : 22\ttrain_accuracy / loss : 0.95794 / 0.11064\tvalid_accuracy / loss : 0.89320 / 0.32107\ttime : 389\n",
      "=========test=========\n",
      "fold : 1\tepoch : 23\ttrain_accuracy / loss : 0.96237 / 0.10015\tvalid_accuracy / loss : 0.89213 / 0.32959\ttime : 389\n",
      "=========test=========\n",
      "fold : 1\tepoch : 24\ttrain_accuracy / loss : 0.96665 / 0.08909\tvalid_accuracy / loss : 0.89447 / 0.33424\ttime : 388\n",
      "=========test=========\n",
      "fold : 1\tepoch : 25\ttrain_accuracy / loss : 0.97011 / 0.08070\tvalid_accuracy / loss : 0.89567 / 0.33772\ttime : 388\n",
      "=========test=========\n",
      "fold : 1\tepoch : 26\ttrain_accuracy / loss : 0.97310 / 0.07209\tvalid_accuracy / loss : 0.89605 / 0.36663\ttime : 388\n",
      "=========test=========\n",
      "fold : 1\tepoch : 27\ttrain_accuracy / loss : 0.97630 / 0.06431\tvalid_accuracy / loss : 0.89634 / 0.37100\ttime : 388\n",
      "=========test=========\n",
      "fold : 1\tepoch : 28\ttrain_accuracy / loss : 0.97879 / 0.05769\tvalid_accuracy / loss : 0.89737 / 0.37740\ttime : 388\n",
      "=========test=========\n",
      "fold : 1\tepoch : 29\ttrain_accuracy / loss : 0.98114 / 0.05165\tvalid_accuracy / loss : 0.89774 / 0.38719\ttime : 388\n",
      "=========test=========\n",
      "fold : 1\tepoch : 30\ttrain_accuracy / loss : 0.98303 / 0.04679\tvalid_accuracy / loss : 0.89824 / 0.38911\ttime : 388\n",
      "Loaded pretrained weights for efficientnet-b3\n",
      "=========test=========\n",
      "fold : 2\tepoch : 01\ttrain_accuracy / loss : 0.58022 / 0.66791\tvalid_accuracy / loss : 0.61110 / 0.65827\ttime : 388\n",
      "=========test=========\n",
      "fold : 2\tepoch : 02\ttrain_accuracy / loss : 0.66253 / 0.60377\tvalid_accuracy / loss : 0.68752 / 0.58047\ttime : 388\n",
      "=========test=========\n",
      "fold : 2\tepoch : 03\ttrain_accuracy / loss : 0.72355 / 0.54026\tvalid_accuracy / loss : 0.74019 / 0.52086\ttime : 388\n",
      "=========test=========\n",
      "fold : 2\tepoch : 04\ttrain_accuracy / loss : 0.77119 / 0.47868\tvalid_accuracy / loss : 0.77732 / 0.47060\ttime : 388\n",
      "=========test=========\n",
      "fold : 2\tepoch : 05\ttrain_accuracy / loss : 0.80196 / 0.43170\tvalid_accuracy / loss : 0.79976 / 0.43203\ttime : 387\n",
      "=========test=========\n",
      "fold : 2\tepoch : 06\ttrain_accuracy / loss : 0.82352 / 0.39562\tvalid_accuracy / loss : 0.82172 / 0.39831\ttime : 387\n",
      "=========test=========\n",
      "fold : 2\tepoch : 07\ttrain_accuracy / loss : 0.84085 / 0.36467\tvalid_accuracy / loss : 0.83553 / 0.37537\ttime : 388\n",
      "=========test=========\n",
      "fold : 2\tepoch : 08\ttrain_accuracy / loss : 0.85516 / 0.33764\tvalid_accuracy / loss : 0.84682 / 0.35414\ttime : 388\n",
      "=========test=========\n",
      "fold : 2\tepoch : 09\ttrain_accuracy / loss : 0.86807 / 0.31317\tvalid_accuracy / loss : 0.85713 / 0.33792\ttime : 388\n",
      "=========test=========\n",
      "fold : 2\tepoch : 10\ttrain_accuracy / loss : 0.87880 / 0.29105\tvalid_accuracy / loss : 0.86088 / 0.33002\ttime : 388\n",
      "=========test=========\n",
      "fold : 2\tepoch : 11\ttrain_accuracy / loss : 0.88840 / 0.27081\tvalid_accuracy / loss : 0.86628 / 0.32255\ttime : 388\n",
      "=========test=========\n",
      "fold : 2\tepoch : 12\ttrain_accuracy / loss : 0.89657 / 0.25334\tvalid_accuracy / loss : 0.87416 / 0.30643\ttime : 388\n"
     ]
    }
   ],
   "source": [
    "\n",
    "### seed_everything(42)\n",
    "\n",
    "# 5개의 fold 모두 실행하려면 for문을 5번 돌리면 됩니다.\n",
    "for fold in range(5):\n",
    "    model = EfficientNet_MultiLabel(in_channels=3).to(device)\n",
    "#     model = nn.DataParallel(model)\n",
    "    train_idx = folds[fold][0]\n",
    "    valid_idx = folds[fold][1]\n",
    "    \n",
    "    train_transform = transforms.Compose([\n",
    "        transforms.RandomHorizontalFlip(),\n",
    "        transforms.RandomVerticalFlip(),\n",
    "                transforms.ToTensor(),\n",
    "\n",
    "#         transforms.RandomRotation(random.randint(-30, 30))\n",
    "        ])\n",
    "    valid_transform = transforms.Compose([\n",
    "        transforms.ToTensor(),\n",
    "        ])\n",
    "\n",
    "\n",
    "    epochs=30\n",
    "    batch_size=40         # 자신의 VRAM에 맞게 조절해야 OOM을 피할 수 있습니다.\n",
    "    \n",
    "    \n",
    "    \n",
    "    # Data Loader\n",
    "    train_dataset = MnistDataset_v1(imgs_dir = imgs_dir[train_idx], labels=labels[train_idx], transform=train_transform)\n",
    "    train_loader = DataLoader(dataset=train_dataset, batch_size=batch_size, shuffle=True)\n",
    "\n",
    "    valid_dataset = MnistDataset_v1(imgs_dir = imgs_dir[valid_idx], labels = labels[valid_idx], transform=valid_transform)\n",
    "    valid_loader = DataLoader(dataset=valid_dataset, batch_size=batch_size, shuffle=False)       \n",
    "    \n",
    "    \n",
    "    # optimizer\n",
    "    # polynomial optimizer를 사용합니다.\n",
    "    # \n",
    "    optimizer = torch.optim.Adam(model.parameters(), lr = 1e-3)\n",
    "    decay_steps = (len(train_dataset)//batch_size)*epochs\n",
    "    scheduler_poly_lr_decay = PolynomialLRDecay(optimizer, max_decay_steps=decay_steps, end_learning_rate=1e-6, power=0.9)\n",
    "\n",
    "    criterion = torch.nn.BCELoss()\n",
    "    \n",
    "    \n",
    "    epoch_accuracy = []\n",
    "    valid_accuracy = []\n",
    "    valid_losses=[]\n",
    "    valid_best_accuracy=0\n",
    "    \n",
    "    for epoch in range(epochs):\n",
    "        model.train()\n",
    "        batch_accuracy_list = []\n",
    "        batch_loss_list = []\n",
    "        start=time.time()\n",
    "        for n, (X, y) in enumerate((train_loader)):\n",
    "            X = torch.tensor(X, device=device, dtype=torch.float32)\n",
    "            y = torch.tensor(y, device=device, dtype=torch.float32)\n",
    "            y_hat = model(X)\n",
    "\n",
    "\n",
    "            optimizer.zero_grad()\n",
    "            loss = criterion(y_hat, y)\n",
    "            #gradient accumulation\n",
    "            if (n+1) % 4 == 0:             # Wait for several backward steps\n",
    "                total_loss = (total_loss+loss)/ 4 \n",
    "                loss.backward()\n",
    "                optimizer.step()                            # Now we can do an optimizer step\n",
    "                model.zero_grad()                           # Reset gradients tensors\n",
    "                total_loss=0\n",
    "                scheduler_poly_lr_decay.step()\n",
    "\n",
    "            else:\n",
    "                total_loss=loss+total_loss\n",
    "\n",
    "\n",
    "            y_hat  = y_hat.cpu().detach().numpy()\n",
    "            y_hat = y_hat>0.5\n",
    "            y = y.cpu().detach().numpy()\n",
    "\n",
    "            batch_accuracy = (y_hat == y).mean()\n",
    "            batch_accuracy_list.append(batch_accuracy)\n",
    "            batch_loss_list.append(loss.item())\n",
    "\n",
    "        print(\"=========test=========\")\n",
    "\n",
    "        model.eval()\n",
    "        valid_batch_accuracy=[]\n",
    "        valid_batch_loss = []\n",
    "        with torch.no_grad():\n",
    "            for n_valid, (X_valid, y_valid) in enumerate((valid_loader)):\n",
    "                X_valid = torch.tensor(X_valid, device=device)#, dtype=torch.float32)\n",
    "                y_valid = torch.tensor(y_valid, device=device, dtype=torch.float32)\n",
    "                y_valid_hat = model(X_valid)\n",
    "\n",
    "                valid_loss = criterion(y_valid_hat, y_valid).item()\n",
    "\n",
    "                y_valid_hat = y_valid_hat.cpu().detach().numpy()>0.5\n",
    "\n",
    "\n",
    "                valid_batch_loss.append(valid_loss)\n",
    "                valid_batch_accuracy.append((y_valid_hat == y_valid.cpu().detach().numpy()).mean())\n",
    "\n",
    "            valid_losses.append(np.mean(valid_batch_loss))\n",
    "            valid_accuracy.append(np.mean(valid_batch_accuracy))\n",
    "\n",
    "        if np.mean(valid_batch_accuracy)>valid_best_accuracy:\n",
    "            torch.save(model.state_dict(), 'model/EfficientNetB3-fold{}-epoch{}.pt'.format(fold,epoch))\n",
    "            valid_best_accuracy = np.mean(valid_batch_accuracy)\n",
    "        print('fold : {}\\tepoch : {:02d}\\ttrain_accuracy / loss : {:.5f} / {:.5f}\\tvalid_accuracy / loss : {:.5f} / {:.5f}\\ttime : {:.0f}'.format(fold+1, epoch+1,\n",
    "                                                                                                                                              np.mean(batch_accuracy_list),\n",
    "                                                                                                                                              np.mean(batch_loss_list),\n",
    "                                                                                                                                              np.mean(valid_batch_accuracy), \n",
    "                                                                                                                                              np.mean(valid_batch_loss),\n",
    "                                                                                                                                              time.time()-start))\n",
    "        with open('./log.txt','a') as f:\n",
    "            f.write('fold : {}\\tepoch : {:02d}\\ttrain_accuracy / loss : {:.5f} / {:.5f}\\tvalid_accuracy / loss : {:.5f} / {:.5f}\\ttime : {:.0f}'.format(fold+1, epoch+1,\n",
    "                                                                                                                                                               np.mean(valid_batch_accuracy), \n",
    "                                                                                                                                              np.mean(valid_batch_loss),\n",
    "                                                                                                                                              time.time()-start))"
   ]
  },
  {
   "cell_type": "code",
   "execution_count": 6,
   "metadata": {},
   "outputs": [
    {
     "name": "stderr",
     "output_type": "stream",
     "text": [
      "100%|██████████| 5000/5000 [00:05<00:00, 905.95it/s]\n"
     ]
    }
   ],
   "source": [
    "test_imgs=[]\n",
    "for path in tqdm(test_imgs_dir):\n",
    "    test_img=cv2.imread(path, cv2.IMREAD_COLOR)\n",
    "    test_imgs.append(test_img)\n",
    "test_imgs=np.array(test_imgs)"
   ]
  },
  {
   "cell_type": "code",
   "execution_count": 7,
   "metadata": {},
   "outputs": [],
   "source": [
    "test_transform = transforms.Compose([\n",
    "\n",
    "        transforms.ToTensor(),\n",
    "        ])"
   ]
  },
  {
   "cell_type": "code",
   "execution_count": 12,
   "metadata": {},
   "outputs": [
    {
     "name": "stderr",
     "output_type": "stream",
     "text": [
      "  0%|          | 0/5000 [00:00<?, ?it/s]/home/itm1/anaconda3/envs/py140/lib/python3.6/site-packages/ipykernel_launcher.py:15: UserWarning: To copy construct from a tensor, it is recommended to use sourceTensor.clone().detach() or sourceTensor.clone().detach().requires_grad_(True), rather than torch.tensor(sourceTensor).\n",
      "  from ipykernel import kernelapp as app\n",
      "  0%|          | 4/5000 [00:00<02:10, 38.35it/s]"
     ]
    },
    {
     "name": "stdout",
     "output_type": "stream",
     "text": [
      "Loaded pretrained weights for efficientnet-b3\n"
     ]
    },
    {
     "name": "stderr",
     "output_type": "stream",
     "text": [
      "100%|██████████| 5000/5000 [02:01<00:00, 41.25it/s]\n",
      "100%|██████████| 5000/5000 [02:01<00:00, 41.14it/s]\n",
      "100%|██████████| 5000/5000 [02:01<00:00, 41.06it/s]\n",
      "  0%|          | 0/5000 [00:00<?, ?it/s]"
     ]
    },
    {
     "name": "stdout",
     "output_type": "stream",
     "text": [
      "Loaded pretrained weights for efficientnet-b3\n"
     ]
    },
    {
     "name": "stderr",
     "output_type": "stream",
     "text": [
      "100%|██████████| 5000/5000 [02:01<00:00, 41.13it/s]\n",
      "100%|██████████| 5000/5000 [02:02<00:00, 40.80it/s]\n",
      "100%|██████████| 5000/5000 [02:02<00:00, 40.72it/s]\n"
     ]
    }
   ],
   "source": [
    "submission = pd.read_csv('dataset/sample_submission.csv')\n",
    "\n",
    "with torch.no_grad():\n",
    "    for fold in range(2):\n",
    "        model = EfficientNet_MultiLabel(in_channels=3).to(device)\n",
    "        model.load_state_dict(torch.load('model/EfficientNetB3-fold{}-epoch28.pt'.format(fold)))\n",
    "        model.eval()\n",
    "\n",
    "        test_dataset = MnistDataset_v2(imgs = test_imgs, transform=test_transform, train=False)\n",
    "        test_loader = DataLoader(dataset=test_dataset, batch_size=1, shuffle=False)\n",
    "        for j in range(3):\n",
    "            test_dataset = MnistDataset_v2(imgs = test_imgs, transform=test_transform, train=False)\n",
    "            test_loader = DataLoader(dataset=test_dataset, batch_size=1, shuffle=False)\n",
    "            for n, X_test in enumerate(tqdm(test_loader)):\n",
    "                X_test = torch.tensor(X_test, device=device, dtype=torch.float32)\n",
    "                with torch.no_grad():\n",
    "                    model.eval()\n",
    "                    pred_test = model(X_test).cpu().detach().numpy()\n",
    "                    submission.iloc[n*32:(n+1)*32,1:] += pred_test"
   ]
  },
  {
   "cell_type": "code",
   "execution_count": 13,
   "metadata": {},
   "outputs": [],
   "source": [
    "submission.iloc[:,1:] = np.where(submission.values[:,1:]/2>=0.5, 1,0)\n"
   ]
  },
  {
   "cell_type": "markdown",
   "metadata": {},
   "source": [
    "# hard Voting"
   ]
  },
  {
   "cell_type": "code",
   "execution_count": null,
   "metadata": {},
   "outputs": [],
   "source": [
    "submission1 = pd.read_csv('dataset/EfficientNetB1-fold3.csv')\n",
    "submission2 = pd.read_csv('dataset/densenet121_aug_rotation_20epoch.csv')\n",
    "submission3 = pd.read_csv('dataset/densenet201_aug_rotation_kfold_0.3056_epoch_17.csv')\n",
    "submission4 = pd.read_csv('dataset/EfficientNetB3-fold1.csv')\n",
    "submission5 = pd.read_csv('dataset/EfficientNetB3-fold2.csv')\n",
    "submission6 = pd.read_csv('dataset/submit_resnet101.csv')\n",
    "submission7 = pd.read_csv('dataset/resnet152_trained_prediction.csv')\n",
    "submission8 = pd.read_csv('dataset/densenet201_aug_rotation_kfold_0.3056_epoch_17.csv')"
   ]
  },
  {
   "cell_type": "code",
   "execution_count": null,
   "metadata": {},
   "outputs": [],
   "source": [
    "new = submission1+submission2+submission3+submission4+submission5+submission6+submission7+submission8\n",
    "submission.iloc[:,1:] = np.where(submission.values[:,1:]>=4, 1,0)\n",
    "\n",
    "submission = pd.read_csv('dataset/sample_submission.csv')\n",
    "new['index']=submission['index']"
   ]
  }
 ],
 "metadata": {
  "kernelspec": {
   "display_name": "py140",
   "language": "python",
   "name": "py140"
  },
  "language_info": {
   "codemirror_mode": {
    "name": "ipython",
    "version": 3
   },
   "file_extension": ".py",
   "mimetype": "text/x-python",
   "name": "python",
   "nbconvert_exporter": "python",
   "pygments_lexer": "ipython3",
   "version": "3.6.10"
  }
 },
 "nbformat": 4,
 "nbformat_minor": 2
}
