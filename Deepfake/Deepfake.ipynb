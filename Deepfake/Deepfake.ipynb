{
 "cells": [
  {
   "cell_type": "markdown",
   "metadata": {},
   "source": [
    "# An Introduction to Neural Networks"
   ]
  },
  {
   "cell_type": "markdown",
   "metadata": {},
   "source": [
    "### A traiditional neural network"
   ]
  },
  {
   "cell_type": "markdown",
   "metadata": {},
   "source": [
    "![nn](images/nn_00.png)"
   ]
  },
  {
   "cell_type": "markdown",
   "metadata": {},
   "source": [
    "Each node from the input layer contains a numerical value that encodes the input we want to feed to the network.\n",
    "These values are broadcated to the next layer; the interesting part is that each dege dampens or amplifies the values it transmits.\n",
    "Each node sums all the values it receives, and outputs a new one based on its own function.\n",
    "The result of the computation can be retrieved from the output layer."
   ]
  },
  {
   "cell_type": "markdown",
   "metadata": {},
   "source": [
    "When images are the input(or output) of a neural network, we typically have three input nodes for each pixel, initialised with the amount of red, green, and blue it contains."
   ]
  },
  {
   "cell_type": "markdown",
   "metadata": {},
   "source": [
    "The most effective architecture for image-based applications so far is convolutional neural netwrok (CNN), and this is exactly what DeepFakes is using."
   ]
  },
  {
   "cell_type": "markdown",
   "metadata": {},
   "source": [
    "Training a neural network means finding a set of weights for all edges, so that the output layer produces the desierd result.\n",
    "One of the most used technique to achieve this is called backpropagation, and it works by re-adjusting the weights every time the network makes a mistake."
   ]
  },
  {
   "cell_type": "markdown",
   "metadata": {},
   "source": [
    "The basic idea behind face detection and image generation is that each layer will represent progressively core complex features."
   ]
  },
  {
   "cell_type": "markdown",
   "metadata": {},
   "source": [
    "In the case of a face, for instance, the first layer might detect edges, the second face features, which the third layer is able to use to detect images."
   ]
  },
  {
   "cell_type": "markdown",
   "metadata": {},
   "source": [
    "![nn](images/tmp_02.png)"
   ]
  },
  {
   "cell_type": "markdown",
   "metadata": {},
   "source": [
    "# AutoEncoder"
   ]
  },
  {
   "cell_type": "markdown",
   "metadata": {},
   "source": [
    "### Autoencoder는 정의상 무언가를 인코드 하기위한 하나의 기술이다."
   ]
  },
  {
   "cell_type": "markdown",
   "metadata": {},
   "source": [
    "Autoencoder는 neural network를 이용하여 어떻게 데이터를 작은 데이터(특징)로 분해 분석할지 배울수 있다. 그다음에 이런 작은 데이터(특징)을 이용하여 원래 데이터와 가능하면 똑같게 다시 만든다."
   ]
  },
  {
   "cell_type": "markdown",
   "metadata": {},
   "source": [
    "![nn](./images/image-reconstruction-and-denoising-with-autoencoders-in-python-and-keras-3.png)"
   ]
  },
  {
   "cell_type": "markdown",
   "metadata": {},
   "source": [
    "Credit: ResearchGate"
   ]
  },
  {
   "cell_type": "markdown",
   "metadata": {},
   "source": [
    "## Encoder"
   ]
  },
  {
   "cell_type": "markdown",
   "metadata": {},
   "source": [
    "Encoder는 데이터에서 대표 될만한(원래 데이터에서 가장 눈에띄는 데이터) 가능한 작은 데이터를 찾아 압축한다. (Bottleneck에 있는 compressed data), (Decoder가 이해 할수 있게 표현)"
   ]
  },
  {
   "cell_type": "markdown",
   "metadata": {},
   "source": [
    "![nn](./images/image-reconstruction-and-denoising-with-autoencoders-in-python-and-keras-4.png)"
   ]
  },
  {
   "cell_type": "markdown",
   "metadata": {},
   "source": [
    "Credit: Ali Abdelaal"
   ]
  },
  {
   "cell_type": "markdown",
   "metadata": {},
   "source": [
    "## Decoder"
   ]
  },
  {
   "cell_type": "markdown",
   "metadata": {},
   "source": [
    "Decoder는 Encoder에 의해 원래 데이터에서 대표될만한 데이터를 압축해둔 코드 (compressed data)를 이해해서 이 정보를 바탕으로 가능한 원래 데이터와 비슷하도록 다시 만든다."
   ]
  },
  {
   "cell_type": "markdown",
   "metadata": {},
   "source": [
    "원래 데이터와 Decoder에서 나온 아웃풋의 차이로 error를 계산한다. (Mean Square Error(MSE)이용)\n",
    "이때 다시 Decoder에서 Encoder까지 결과가 더 나아지도록 모든 parameter들을 업데이트 한다. (Backpropagation) "
   ]
  },
  {
   "cell_type": "markdown",
   "metadata": {},
   "source": [
    "# Deepfake"
   ]
  },
  {
   "cell_type": "markdown",
   "metadata": {},
   "source": [
    "### 이 AutoEncoder를 Deepfake에 적용 할 수 있다."
   ]
  },
  {
   "cell_type": "markdown",
   "metadata": {},
   "source": [
    "Deepfake를 하기 위해서는 두개의 AutoEncoder가 필요하다."
   ]
  },
  {
   "cell_type": "markdown",
   "metadata": {},
   "source": [
    "Training단계에서, 두사람(X, Y)(다양하고 많은 사진들이 필요)을 위한 AutoEncoder에서 하나의 Encoder로 X와 Y의 가장 중요하고 비슷한 특징 (따라서 이미지 자체를 외우는게 아닌 얼굴이라는 특징을 배움)을 추출하고 훈련한다. (CNN 이용) 그런 다음 Decoder들은 추출된 정보를 바탕으로 다시 원래 이미지와 가능한 똑같게 이미지를 만들어낸다."
   ]
  },
  {
   "cell_type": "markdown",
   "metadata": {},
   "source": [
    "![nn](./images/training-image.jpg)"
   ]
  },
  {
   "cell_type": "markdown",
   "metadata": {},
   "source": [
    "Credit: Head scarf"
   ]
  },
  {
   "cell_type": "markdown",
   "metadata": {},
   "source": [
    "트레이닝 이후, 한 사람의 얼굴을 다른 사람의 얼굴로 바꾸는 과정을 한다."
   ]
  },
  {
   "cell_type": "markdown",
   "metadata": {},
   "source": [
    "![nn](./images/deepfakes_02d.png)"
   ]
  },
  {
   "cell_type": "markdown",
   "metadata": {},
   "source": [
    "Credit: Alan Zucconi"
   ]
  },
  {
   "cell_type": "markdown",
   "metadata": {},
   "source": [
    " X (image1)에서 추출 된 정보를 X의 Decoder로 다시 이미지를 만드는게 아니라 Y (image2)의 Decoder를 이용해 이미지를 다시 생성한다."
   ]
  },
  {
   "cell_type": "markdown",
   "metadata": {},
   "source": [
    "![nn](./images/after-training-image.jpg)"
   ]
  },
  {
   "cell_type": "markdown",
   "metadata": {},
   "source": [
    "Credit: Head scarf"
   ]
  },
  {
   "cell_type": "markdown",
   "metadata": {},
   "source": [
    "얼굴 부분만 잘라서 입력하고 나중에 나온 결과 이미지로 원래 이미지에 합치면 위와 같이 X (image1)에 다른사람 Y (X 얼굴의 특징을 가진) 얼굴을 가지게 할 수 있다."
   ]
  },
  {
   "cell_type": "markdown",
   "metadata": {},
   "source": [
    "# GANs (Generative Adversarial Networks)"
   ]
  },
  {
   "cell_type": "markdown",
   "metadata": {},
   "source": [
    "### Generator: 이미지를 생성"
   ]
  },
  {
   "cell_type": "markdown",
   "metadata": {},
   "source": [
    "### Discriminator: 이미지가 진짜인지 가짜인지 분류"
   ]
  },
  {
   "cell_type": "markdown",
   "metadata": {},
   "source": [
    "![nn](./images/GANs.jpg)"
   ]
  },
  {
   "cell_type": "markdown",
   "metadata": {},
   "source": [
    "Credit: Joey Mach"
   ]
  },
  {
   "cell_type": "markdown",
   "metadata": {},
   "source": [
    "Discriminator가 진짜 가짜를 잘 구분해서 Generator가 진짜 이미지와 거의 똑같게 만들어 내도록 성능을 더 높일수 있다."
   ]
  },
  {
   "cell_type": "markdown",
   "metadata": {},
   "source": [
    "## Image"
   ]
  },
  {
   "cell_type": "markdown",
   "metadata": {},
   "source": [
    "### 훈련단계에서 autoencoder가 단순한 데이터로 아웃풋을 복제하게 만들지 않게 해야한다."
   ]
  },
  {
   "cell_type": "markdown",
   "metadata": {},
   "source": [
    "![nn](./images/image-warp.jpg)"
   ]
  },
  {
   "cell_type": "markdown",
   "metadata": {},
   "source": [
    "Credit: Head scarf"
   ]
  },
  {
   "cell_type": "markdown",
   "metadata": {},
   "source": [
    "Input 이미지를 위한 이미지에 왜곡을 주어 왜곡된 이미지와 target image로 또다른 왜곡된 이미지 (왜곡된 포인트는 같지만 다른 방법)도 추가하여 훈련시킨다."
   ]
  },
  {
   "cell_type": "markdown",
   "metadata": {},
   "source": [
    "이럴경우 autoencoder는 불필요한 정보와 정말 필요한 정보를 더 잘 배울 수 있게 된다."
   ]
  },
  {
   "cell_type": "markdown",
   "metadata": {},
   "source": [
    "## Mask"
   ]
  },
  {
   "cell_type": "markdown",
   "metadata": {},
   "source": [
    "### Deepfake는 만들어진 이미지가 적용하고 싶은 이미지에 잘 합쳐지도록 마스크를 만든다."
   ]
  },
  {
   "cell_type": "markdown",
   "metadata": {},
   "source": [
    "![nn](./images/deepfake-mask.jpg)"
   ]
  },
  {
   "cell_type": "markdown",
   "metadata": {},
   "source": [
    "Credit: Head scarf"
   ]
  },
  {
   "cell_type": "markdown",
   "metadata": {},
   "source": [
    "## 다른 보완"
   ]
  },
  {
   "cell_type": "markdown",
   "metadata": {},
   "source": [
    "Adjustiing Color tone, contrast and brightness of the created face to match the target image. 자동으로 해주는 기술 이용. 너무 많이 이용하면 flicking 발생."
   ]
  },
  {
   "cell_type": "markdown",
   "metadata": {},
   "source": [
    "적절한 이미지를 만들지 못하면 flicking 발생 따라서 많고 다양한 데이터를 사용 해야한다."
   ]
  },
  {
   "cell_type": "markdown",
   "metadata": {},
   "source": [
    "## Reference "
   ]
  },
  {
   "cell_type": "markdown",
   "metadata": {},
   "source": [
    "### [1]: https://jonathan-hui.medium.com/how-deep-learning-fakes-videos-deepfakes-and-how-to-detect-it-c0b50fbf7cb9"
   ]
  },
  {
   "cell_type": "markdown",
   "metadata": {},
   "source": [
    "### [2]: https://stackabuse.com/autoencoders-for-image-reconstruction-in-python-and-keras/"
   ]
  },
  {
   "cell_type": "markdown",
   "metadata": {},
   "source": [
    "### [3]: https://www.alanzucconi.com/2018/03/14/understanding-the-technology-behind-deepfakes/"
   ]
  },
  {
   "cell_type": "markdown",
   "metadata": {},
   "source": [
    "### [4]: https://towardsdatascience.com/deepfakes-the-ugly-and-the-good-49115643d8dd"
   ]
  }
 ],
 "metadata": {
  "kernelspec": {
   "display_name": "Python 3",
   "language": "python",
   "name": "python3"
  },
  "language_info": {
   "codemirror_mode": {
    "name": "ipython",
    "version": 3
   },
   "file_extension": ".py",
   "mimetype": "text/x-python",
   "name": "python",
   "nbconvert_exporter": "python",
   "pygments_lexer": "ipython3",
   "version": "3.7.9"
  }
 },
 "nbformat": 4,
 "nbformat_minor": 4
}
